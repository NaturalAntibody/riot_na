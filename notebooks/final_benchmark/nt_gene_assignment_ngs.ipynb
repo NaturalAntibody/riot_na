{
 "cells": [
  {
   "cell_type": "markdown",
   "metadata": {},
   "source": [
    "# Gene | allele assignment precision - HUMAN NGS"
   ]
  },
  {
   "cell_type": "code",
   "execution_count": 1,
   "metadata": {},
   "outputs": [],
   "source": [
    "import pandas as pd\n",
    "from pathlib import Path\n",
    "from utils import calculate_gene_allele_assignment_precision"
   ]
  },
  {
   "cell_type": "code",
   "execution_count": 2,
   "metadata": {},
   "outputs": [],
   "source": [
    "DATA_PATH = Path().absolute().parent.parent / \"data\"\n",
    "RESULTS_PATH = Path().absolute().parent.parent / \"results\""
   ]
  },
  {
   "cell_type": "code",
   "execution_count": 3,
   "metadata": {},
   "outputs": [],
   "source": [
    "ground_truth_df = pd.read_csv(DATA_PATH / \"ngs_stratified\" / \"ngs_sample_human_ground_truth.csv\", index_col=0)\n",
    "igblast_df = pd.read_csv(\"/home/bartosz/Documents/igblast/results/ngs_sample_clean_dj_penalty_-1_human.tsv\", index_col=0, sep=\"\\t\")\n",
    "riot_df = pd.read_csv(RESULTS_PATH / \"ngs_human_nt/ngs_sample_human_imgt_human.csv\", index_col=0)"
   ]
  },
  {
   "cell_type": "markdown",
   "metadata": {},
   "source": [
    "## V genes"
   ]
  },
  {
   "cell_type": "code",
   "execution_count": 4,
   "metadata": {},
   "outputs": [
    {
     "data": {
      "text/html": [
       "<style type=\"text/css\">\n",
       "</style>\n",
       "<table id=\"T_a4a2a\">\n",
       "  <caption>Nucleotides V gene - Human NGS</caption>\n",
       "  <thead>\n",
       "    <tr>\n",
       "      <th class=\"blank level0\" >&nbsp;</th>\n",
       "      <th id=\"T_a4a2a_level0_col0\" class=\"col_heading level0 col0\" >gene</th>\n",
       "      <th id=\"T_a4a2a_level0_col1\" class=\"col_heading level0 col1\" >allele</th>\n",
       "    </tr>\n",
       "  </thead>\n",
       "  <tbody>\n",
       "    <tr>\n",
       "      <th id=\"T_a4a2a_level0_row0\" class=\"row_heading level0 row0\" >riot</th>\n",
       "      <td id=\"T_a4a2a_row0_col0\" class=\"data row0 col0\" >93.13%</td>\n",
       "      <td id=\"T_a4a2a_row0_col1\" class=\"data row0 col1\" >93.11%</td>\n",
       "    </tr>\n",
       "    <tr>\n",
       "      <th id=\"T_a4a2a_level0_row1\" class=\"row_heading level0 row1\" >igblast</th>\n",
       "      <td id=\"T_a4a2a_row1_col0\" class=\"data row1 col0\" >93.15%</td>\n",
       "      <td id=\"T_a4a2a_row1_col1\" class=\"data row1 col1\" >93.01%</td>\n",
       "    </tr>\n",
       "  </tbody>\n",
       "</table>\n"
      ],
      "text/plain": [
       "<pandas.io.formats.style.Styler at 0x75cc9a76f850>"
      ]
     },
     "execution_count": 4,
     "metadata": {},
     "output_type": "execute_result"
    }
   ],
   "source": [
    "gene = \"v\"\n",
    "pd.DataFrame.from_records(\n",
    "    [\n",
    "        calculate_gene_allele_assignment_precision(ground_truth_df, riot_df, gene),\n",
    "        calculate_gene_allele_assignment_precision(ground_truth_df, igblast_df, gene),\n",
    "    ],\n",
    "    index=[\"riot\", \"igblast\"],\n",
    ").style.format(\"{:.2f}%\").set_caption(f\"Nucleotides {gene.upper()} gene - Human NGS\")"
   ]
  },
  {
   "cell_type": "markdown",
   "metadata": {},
   "source": [
    "## J genes"
   ]
  },
  {
   "cell_type": "code",
   "execution_count": 5,
   "metadata": {},
   "outputs": [
    {
     "data": {
      "text/html": [
       "<style type=\"text/css\">\n",
       "</style>\n",
       "<table id=\"T_eaffc\">\n",
       "  <caption>Nucleotides J gene - Human NGS</caption>\n",
       "  <thead>\n",
       "    <tr>\n",
       "      <th class=\"blank level0\" >&nbsp;</th>\n",
       "      <th id=\"T_eaffc_level0_col0\" class=\"col_heading level0 col0\" >gene</th>\n",
       "      <th id=\"T_eaffc_level0_col1\" class=\"col_heading level0 col1\" >allele</th>\n",
       "    </tr>\n",
       "  </thead>\n",
       "  <tbody>\n",
       "    <tr>\n",
       "      <th id=\"T_eaffc_level0_row0\" class=\"row_heading level0 row0\" >riot</th>\n",
       "      <td id=\"T_eaffc_row0_col0\" class=\"data row0 col0\" >92.11%</td>\n",
       "      <td id=\"T_eaffc_row0_col1\" class=\"data row0 col1\" >92.11%</td>\n",
       "    </tr>\n",
       "    <tr>\n",
       "      <th id=\"T_eaffc_level0_row1\" class=\"row_heading level0 row1\" >igblast</th>\n",
       "      <td id=\"T_eaffc_row1_col0\" class=\"data row1 col0\" >91.12%</td>\n",
       "      <td id=\"T_eaffc_row1_col1\" class=\"data row1 col1\" >91.09%</td>\n",
       "    </tr>\n",
       "  </tbody>\n",
       "</table>\n"
      ],
      "text/plain": [
       "<pandas.io.formats.style.Styler at 0x75cc459b0610>"
      ]
     },
     "execution_count": 5,
     "metadata": {},
     "output_type": "execute_result"
    }
   ],
   "source": [
    "gene = \"j\"\n",
    "pd.DataFrame.from_records(\n",
    "    [\n",
    "        calculate_gene_allele_assignment_precision(ground_truth_df, riot_df, gene),\n",
    "        calculate_gene_allele_assignment_precision(ground_truth_df, igblast_df, gene),\n",
    "    ],\n",
    "    index=[\"riot\", \"igblast\"],\n",
    ").style.format(\"{:.2f}%\").set_caption(f\"Nucleotides {gene.upper()} gene - Human NGS\")"
   ]
  }
 ],
 "metadata": {
  "kernelspec": {
   "display_name": "riot-ZhbTWDtr-py3.10",
   "language": "python",
   "name": "python3"
  },
  "language_info": {
   "codemirror_mode": {
    "name": "ipython",
    "version": 3
   },
   "file_extension": ".py",
   "mimetype": "text/x-python",
   "name": "python",
   "nbconvert_exporter": "python",
   "pygments_lexer": "ipython3",
   "version": "3.10.7"
  }
 },
 "nbformat": 4,
 "nbformat_minor": 2
}
