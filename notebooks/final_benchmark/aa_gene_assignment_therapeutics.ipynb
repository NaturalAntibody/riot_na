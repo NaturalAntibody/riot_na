{
 "cells": [
  {
   "cell_type": "markdown",
   "metadata": {},
   "source": [
    "# Gene | allele assignment precision - HUMAN therapeutics "
   ]
  },
  {
   "cell_type": "code",
   "execution_count": 13,
   "metadata": {},
   "outputs": [],
   "source": [
    "import pandas as pd\n",
    "from pathlib import Path\n",
    "from typing import Literal\n",
    "from utils import calculate_gene_allele_assignment_precision"
   ]
  },
  {
   "cell_type": "code",
   "execution_count": 14,
   "metadata": {},
   "outputs": [],
   "source": [
    "DATA_PATH = Path().absolute().parent.parent / \"data\"\n",
    "RESULTS_PATH = Path().absolute().parent.parent / \"results\""
   ]
  },
  {
   "cell_type": "code",
   "execution_count": 15,
   "metadata": {},
   "outputs": [],
   "source": [
    "ground_truth_df = pd.read_csv(DATA_PATH / \"therapeutics\" / \"therapeutics_ground_truth_human_new.csv\", index_col=0)\n",
    "anarci_df = pd.read_csv(\"/home/bartosz/Documents/ANARCI/results/therapeutics_deduplicated/results.csv\", index_col=0)\n",
    "riot_df = pd.read_csv(RESULTS_PATH / \"therapeutics_human_aa/therapeutics_human_imgt_human.csv\", index_col=0)"
   ]
  },
  {
   "cell_type": "markdown",
   "metadata": {},
   "source": [
    "## V genes"
   ]
  },
  {
   "cell_type": "code",
   "execution_count": 19,
   "metadata": {},
   "outputs": [
    {
     "data": {
      "text/html": [
       "<style type=\"text/css\">\n",
       "</style>\n",
       "<table id=\"T_86ef6\">\n",
       "  <caption>Nucleotides V gene - Human NGS</caption>\n",
       "  <thead>\n",
       "    <tr>\n",
       "      <th class=\"blank level0\" >&nbsp;</th>\n",
       "      <th id=\"T_86ef6_level0_col0\" class=\"col_heading level0 col0\" >gene</th>\n",
       "      <th id=\"T_86ef6_level0_col1\" class=\"col_heading level0 col1\" >allele</th>\n",
       "    </tr>\n",
       "  </thead>\n",
       "  <tbody>\n",
       "    <tr>\n",
       "      <th id=\"T_86ef6_level0_row0\" class=\"row_heading level0 row0\" >riot</th>\n",
       "      <td id=\"T_86ef6_row0_col0\" class=\"data row0 col0\" >96.94%</td>\n",
       "      <td id=\"T_86ef6_row0_col1\" class=\"data row0 col1\" >96.86%</td>\n",
       "    </tr>\n",
       "    <tr>\n",
       "      <th id=\"T_86ef6_level0_row1\" class=\"row_heading level0 row1\" >anarci</th>\n",
       "      <td id=\"T_86ef6_row1_col0\" class=\"data row1 col0\" >65.42%</td>\n",
       "      <td id=\"T_86ef6_row1_col1\" class=\"data row1 col1\" >62.17%</td>\n",
       "    </tr>\n",
       "  </tbody>\n",
       "</table>\n"
      ],
      "text/plain": [
       "<pandas.io.formats.style.Styler at 0x78192266eb00>"
      ]
     },
     "execution_count": 19,
     "metadata": {},
     "output_type": "execute_result"
    }
   ],
   "source": [
    "gene = \"v\"\n",
    "pd.DataFrame.from_records(\n",
    "    [\n",
    "        calculate_gene_allele_assignment_precision(ground_truth_df, riot_df, gene),\n",
    "        calculate_gene_allele_assignment_precision(ground_truth_df, anarci_df, gene),\n",
    "    ],\n",
    "    index=[\"riot\", \"anarci\"],\n",
    ").style.format(\"{:.2f}%\").set_caption(f\"Nucleotides {gene.upper()} gene - Human NGS\")"
   ]
  },
  {
   "cell_type": "markdown",
   "metadata": {},
   "source": [
    "## J genes"
   ]
  },
  {
   "cell_type": "code",
   "execution_count": 23,
   "metadata": {},
   "outputs": [
    {
     "data": {
      "text/html": [
       "<style type=\"text/css\">\n",
       "</style>\n",
       "<table id=\"T_fc909\">\n",
       "  <caption>Nucleotides J gene - Human NGS</caption>\n",
       "  <thead>\n",
       "    <tr>\n",
       "      <th class=\"blank level0\" >&nbsp;</th>\n",
       "      <th id=\"T_fc909_level0_col0\" class=\"col_heading level0 col0\" >gene</th>\n",
       "      <th id=\"T_fc909_level0_col1\" class=\"col_heading level0 col1\" >allele</th>\n",
       "    </tr>\n",
       "  </thead>\n",
       "  <tbody>\n",
       "    <tr>\n",
       "      <th id=\"T_fc909_level0_row0\" class=\"row_heading level0 row0\" >riot</th>\n",
       "      <td id=\"T_fc909_row0_col0\" class=\"data row0 col0\" >97.72%</td>\n",
       "      <td id=\"T_fc909_row0_col1\" class=\"data row0 col1\" >97.65%</td>\n",
       "    </tr>\n",
       "    <tr>\n",
       "      <th id=\"T_fc909_level0_row1\" class=\"row_heading level0 row1\" >anarci</th>\n",
       "      <td id=\"T_fc909_row1_col0\" class=\"data row1 col0\" >78.90%</td>\n",
       "      <td id=\"T_fc909_row1_col1\" class=\"data row1 col1\" >78.56%</td>\n",
       "    </tr>\n",
       "  </tbody>\n",
       "</table>\n"
      ],
      "text/plain": [
       "<pandas.io.formats.style.Styler at 0x781921251960>"
      ]
     },
     "execution_count": 23,
     "metadata": {},
     "output_type": "execute_result"
    }
   ],
   "source": [
    "gene = \"j\"\n",
    "pd.DataFrame.from_records(\n",
    "    [\n",
    "        calculate_gene_allele_assignment_precision(ground_truth_df, riot_df, gene),\n",
    "        calculate_gene_allele_assignment_precision(ground_truth_df, anarci_df, gene),\n",
    "    ],\n",
    "    index=[\"riot\", \"anarci\"],\n",
    ").style.format(\"{:.2f}%\").set_caption(f\"Nucleotides {gene.upper()} gene - Human NGS\")"
   ]
  }
 ],
 "metadata": {
  "kernelspec": {
   "display_name": "riot-ZhbTWDtr-py3.10",
   "language": "python",
   "name": "python3"
  },
  "language_info": {
   "codemirror_mode": {
    "name": "ipython",
    "version": 3
   },
   "file_extension": ".py",
   "mimetype": "text/x-python",
   "name": "python",
   "nbconvert_exporter": "python",
   "pygments_lexer": "ipython3",
   "version": "3.10.7"
  }
 },
 "nbformat": 4,
 "nbformat_minor": 2
}
