{
 "cells": [
  {
   "cell_type": "markdown",
   "metadata": {},
   "source": [
    "# Execution time comparison"
   ]
  },
  {
   "cell_type": "code",
   "execution_count": 18,
   "metadata": {},
   "outputs": [],
   "source": [
    "import pandas as pd\n",
    "from pathlib import Path\n",
    "import time"
   ]
  },
  {
   "cell_type": "code",
   "execution_count": 23,
   "metadata": {},
   "outputs": [],
   "source": [
    "def sec_to_hr_time(elapsed_time: float) -> str:\n",
    "    return time.strftime(\"%H:%M:%S\", time.gmtime(elapsed_time))\n",
    "\n",
    "\n",
    "RESULTS_PATH = Path().absolute().parent.parent / \"results\"\n",
    "\n",
    "NT_SEQ_NUM = 392857\n",
    "AA_SEQ_NUM = 366412\n",
    "\n",
    "riot_nt_df = pd.read_csv(RESULTS_PATH / \"final_human_ngs_nt_elapsed.csv\", index_col=0)\n",
    "riot_aa_df = pd.read_csv(RESULTS_PATH / \"final_human_ngs_aa_elapsed.csv\", index_col=0)\n",
    "igblast_nt_df = pd.read_csv(\"/home/bartosz/Documents/igblast/results/final_human_ngs_nt_elapsed.csv\")\n",
    "anarci_aa_df = pd.read_csv(\"/home/bartosz/Documents/ANARCI/results/therapeutics_deduplicated_human/elapsed_time.csv\")"
   ]
  },
  {
   "cell_type": "markdown",
   "metadata": {},
   "source": [
    "## Nucleotides - RIOT vs IGBLAST"
   ]
  },
  {
   "cell_type": "code",
   "execution_count": 32,
   "metadata": {},
   "outputs": [
    {
     "data": {
      "text/html": [
       "<style type=\"text/css\">\n",
       "</style>\n",
       "<table id=\"T_cbca4\">\n",
       "  <caption>Human NGS - Nucleotides, sample size: 392857</caption>\n",
       "  <thead>\n",
       "    <tr>\n",
       "      <th class=\"blank level0\" >&nbsp;</th>\n",
       "      <th id=\"T_cbca4_level0_col0\" class=\"col_heading level0 col0\" >elapsed_time (HH:MM:SS)</th>\n",
       "    </tr>\n",
       "  </thead>\n",
       "  <tbody>\n",
       "    <tr>\n",
       "      <th id=\"T_cbca4_level0_row0\" class=\"row_heading level0 row0\" >riot</th>\n",
       "      <td id=\"T_cbca4_row0_col0\" class=\"data row0 col0\" >00:06:28</td>\n",
       "    </tr>\n",
       "    <tr>\n",
       "      <th id=\"T_cbca4_level0_row1\" class=\"row_heading level0 row1\" >igblast</th>\n",
       "      <td id=\"T_cbca4_row1_col0\" class=\"data row1 col0\" >00:27:58</td>\n",
       "    </tr>\n",
       "  </tbody>\n",
       "</table>\n"
      ],
      "text/plain": [
       "<pandas.io.formats.style.Styler at 0x74ee7d6f2e60>"
      ]
     },
     "execution_count": 32,
     "metadata": {},
     "output_type": "execute_result"
    }
   ],
   "source": [
    "res = pd.DataFrame(\n",
    "    data=[sec_to_hr_time(riot_nt_df[\"elapsed_time\"].mean()), sec_to_hr_time(igblast_nt_df[\"elapsed_time\"].mean())],\n",
    "    columns=[\"elapsed_time (HH:MM:SS)\"],\n",
    "    index=[\"riot\", \"igblast\"],\n",
    ").style.set_caption(f\"Human NGS - Nucleotides, sample size: {NT_SEQ_NUM}\")\n",
    "res"
   ]
  },
  {
   "cell_type": "markdown",
   "metadata": {},
   "source": [
    "## Amino acids - RIOT vs ANARCI"
   ]
  },
  {
   "cell_type": "code",
   "execution_count": 34,
   "metadata": {},
   "outputs": [
    {
     "data": {
      "text/html": [
       "<style type=\"text/css\">\n",
       "</style>\n",
       "<table id=\"T_a3f3a\">\n",
       "  <caption>Human NGS - Nucleotides, sample size: 366412</caption>\n",
       "  <thead>\n",
       "    <tr>\n",
       "      <th class=\"blank level0\" >&nbsp;</th>\n",
       "      <th id=\"T_a3f3a_level0_col0\" class=\"col_heading level0 col0\" >elapsed_time (HH:MM:SS)</th>\n",
       "    </tr>\n",
       "  </thead>\n",
       "  <tbody>\n",
       "    <tr>\n",
       "      <th id=\"T_a3f3a_level0_row0\" class=\"row_heading level0 row0\" >riot</th>\n",
       "      <td id=\"T_a3f3a_row0_col0\" class=\"data row0 col0\" >00:04:50</td>\n",
       "    </tr>\n",
       "    <tr>\n",
       "      <th id=\"T_a3f3a_level0_row1\" class=\"row_heading level0 row1\" >anarci</th>\n",
       "      <td id=\"T_a3f3a_row1_col0\" class=\"data row1 col0\" >00:29:59</td>\n",
       "    </tr>\n",
       "  </tbody>\n",
       "</table>\n"
      ],
      "text/plain": [
       "<pandas.io.formats.style.Styler at 0x74ee7d6f2b00>"
      ]
     },
     "execution_count": 34,
     "metadata": {},
     "output_type": "execute_result"
    }
   ],
   "source": [
    "res = pd.DataFrame(\n",
    "    data=[sec_to_hr_time(riot_aa_df[\"elapsed_time\"].mean()), sec_to_hr_time(anarci_aa_df[\"elapsed_time\"].mean())],\n",
    "    columns=[\"elapsed_time (HH:MM:SS)\"],\n",
    "    index=[\"riot\", \"anarci\"],\n",
    ").style.set_caption(f\"Human NGS - Amino Acids, sample size: {AA_SEQ_NUM}\")\n",
    "res"
   ]
  }
 ],
 "metadata": {
  "kernelspec": {
   "display_name": "riot-ZhbTWDtr-py3.10",
   "language": "python",
   "name": "python3"
  },
  "language_info": {
   "codemirror_mode": {
    "name": "ipython",
    "version": 3
   },
   "file_extension": ".py",
   "mimetype": "text/x-python",
   "name": "python",
   "nbconvert_exporter": "python",
   "pygments_lexer": "ipython3",
   "version": "3.10.7"
  }
 },
 "nbformat": 4,
 "nbformat_minor": 2
}
