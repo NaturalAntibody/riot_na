{
 "cells": [
  {
   "cell_type": "code",
   "execution_count": 5,
   "metadata": {},
   "outputs": [],
   "source": [
    "import pandas as pd\n",
    "from pathlib import Path"
   ]
  },
  {
   "cell_type": "code",
   "execution_count": 18,
   "metadata": {},
   "outputs": [],
   "source": [
    "DATA_DIR = Path().absolute().parent / \"data\" / \"ngs_stratified\"\n",
    "METADATA_DIR = DATA_DIR / \"metadata\""
   ]
  },
  {
   "cell_type": "code",
   "execution_count": 21,
   "metadata": {},
   "outputs": [],
   "source": [
    "read_run_df = pd.read_csv(METADATA_DIR / \"read_run.csv\")\n",
    "sample_df = pd.read_csv(METADATA_DIR / \"sample.csv\")\n",
    "study_df = pd.read_csv(METADATA_DIR / \"study.csv\").set_index(\"study_accession\")\n",
    "ngs_sample_df = pd.read_csv(DATA_DIR / \"ngs_sample_clean.csv\")"
   ]
  },
  {
   "cell_type": "code",
   "execution_count": 47,
   "metadata": {},
   "outputs": [],
   "source": [
    "ngs_sample_df[\"run_accession\"] = ngs_sample_df[\"sequence_id\"].str.split(\".\").str[0]\n",
    "metadata_df = read_run_df[[\"sample_accession\", \"study_accession\", \"run_accession\", \"library_source\"]].merge(\n",
    "    sample_df[[\"sample_accession\", \"scientific_name\"]], on=\"sample_accession\"\n",
    ")\n",
    "filtered_metadata_df = metadata_df[\n",
    "    (metadata_df[\"library_source\"] == \"TRANSCRIPTOMIC\") & (metadata_df[\"scientific_name\"] == \"Homo sapiens\")\n",
    "]\n",
    "filtered_ngs_sample_df = ngs_sample_df.merge(filtered_metadata_df.drop(columns=[\"study_accession\"]), on=\"run_accession\")\n",
    "\n",
    "filtered_ngs_sample_df = filtered_ngs_sample_df.drop_duplicates(subset=[\"sequence\"]) \n",
    "filtered_ngs_sample_df.to_csv(DATA_DIR / \"ngs_sample_human.csv\", index=False)\n",
    "with open(DATA_DIR / \"ngs_sample_human_nt.fasta\", \"w\") as file:\n",
    "    for record in filtered_ngs_sample_df[[\"sequence_id\", \"sequence\"]].itertuples():\n",
    "        file.write(f\">{record.sequence_id}\\n\")\n",
    "        file.write(f\"{record.sequence}\\n\")"
   ]
  }
 ],
 "metadata": {
  "kernelspec": {
   "display_name": "riot-ZhbTWDtr-py3.10",
   "language": "python",
   "name": "python3"
  },
  "language_info": {
   "codemirror_mode": {
    "name": "ipython",
    "version": 3
   },
   "file_extension": ".py",
   "mimetype": "text/x-python",
   "name": "python",
   "nbconvert_exporter": "python",
   "pygments_lexer": "ipython3",
   "version": "3.10.7"
  }
 },
 "nbformat": 4,
 "nbformat_minor": 2
}
